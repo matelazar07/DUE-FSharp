{
  "nbformat": 4,
  "nbformat_minor": 0,
  "metadata": {
    "colab": {
      "provenance": [],
      "machine_shape": "hm",
      "gpuType": "T4",
      "toc_visible": true,
      "include_colab_link": true
    },
    "kernelspec": {
      "name": "python3",
      "display_name": "Python 3"
    },
    "language_info": {
      "name": "python"
    },
    "accelerator": "GPU"
  },
  "cells": [
    {
      "cell_type": "markdown",
      "metadata": {
        "id": "view-in-github",
        "colab_type": "text"
      },
      "source": [
        "<a href=\"https://colab.research.google.com/github/matelazar07/DUE-FSharp/blob/master/HW1_Image_Colorization_24_25.ipynb\" target=\"_parent\"><img src=\"https://colab.research.google.com/assets/colab-badge.svg\" alt=\"Open In Colab\"/></a>"
      ]
    },
    {
      "cell_type": "markdown",
      "source": [
        "# **Homework 1 - Image Colorization**\n",
        "\n",
        "<div style=\"border: 3px solid #222; padding: 16px; border-radius: 10px; background-color: #1c1f26; font-family: 'Helvetica Neue', Helvetica, Arial, sans-serif; color: #e0e0e0;\">\n",
        "  <div style=\"display: flex; align-items: center; gap: 8px; margin-top: 12px;\">\n",
        "    <span style=\"font-size: 24px; color: #ff5555;\">&#128274;</span>\n",
        "    <span style=\"font-size: 16px;\"><strong>Project:</strong> Homeworks</span>\n",
        "  </div>\n",
        "  <div style=\"display: flex; align-items: center; gap: 8px; margin-top: 8px;\">\n",
        "    <span style=\"font-size: 20px; color: #ff5555;\">&#128218;</span>\n",
        "    <span style=\"font-size: 16px;\"><strong>Course:</strong> Deep Network Development</span>\n",
        "  </div>\n",
        "  <div style=\"margin-top: 12px; font-size: 14px;\">\n",
        "    <span style=\"font-size: 18px; color: #6e8192;\">&#128100;</span>\n",
        "    <span style=\"font-weight: bold;\"><strong>Authors:</strong></span> Tamás Takács, Imre Molnár (PhD students, Department of Artificial Intelligence, Eötvös Loránd University)\n",
        "  </div>\n",
        "</div>\n",
        "<hr style=\"border: none; border-top: 2px solid #444;\">\n",
        "<br>\n",
        "\n",
        "<img src=\"https://learnopencv.com/wp-content/uploads/2018/07/colorization-example.png\" alt=\"1\" border=\"0\">\n",
        "\n",
        "This notebook contains the required task for the **first homework** of the **Deep Network Development (DNDEG)** course. Read the task description carefully and **fill in the empty code cells**.\n",
        "\n",
        "# **Task Description**\n",
        "\n",
        "`Image Colorization` is the process of converting a grayscale image (single-channel) into an image with a specific color spectrum. In this homework, your task is to **create and train a convolutional neural network (CNN) model** to colorize grayscale images to the RGB color spectrum. To demonstrate the effectiveness of CNNs, you will also implement a **linear regression model** for the same task and compare their results.\n",
        "\n",
        "## **Expectations**\n",
        "\n",
        "- The **performance does not need to be perfect**, but your **metrics should show better results than random color guessing**, and the **loss should decrease throughout the epochs**.\n",
        "- You are **free to design any custom shallow convolutional neural network**, as long as it is specifically tailored for the image colorization task.\n",
        "- You can choose **any dataset** (e.g., `CIFAR-10`, `Caltech101`, `Food101`, `FlickR`) or create a custom dataset by **scraping the web** for a specific theme. If you decide to use web scraping, you can utilize the `icrawler` Python package. Ensure that **no NSFW images** are included.\n",
        "- If you decide to use a **high-resolution dataset**, apply **resizizing transformations** since the fully connected network’s complexity increases with input size. For example:\n",
        "  - A $[1\\times32\\times32]$ grayscale image will have $1,024$ features.\n",
        "  - A $[1\\times512\\times512]$ grayscale image will have $262,144$ features, which is $256$ **times more**.\n",
        "  \n",
        "## **Requirements**\n",
        "\n",
        "- Data Visualization:\n",
        "  - Display **samples from the original dataset**.\n",
        "  - Show the **transformed grayscale images** at the beginning of the notebook.\n",
        "  - Present **predicted colorized images** alongside ground truth images.\n",
        "\n",
        "- Performance Monitoring:\n",
        "  - **Visualize training and validation losses** after training the network.\n",
        "  - **Use plots and metrics (e.g., matplotlib, seaborn)** to display performance trends.\n",
        "\n",
        "- Implement **overfitting prevention techniques**, such as:\n",
        "  - **Early stopping**\n",
        "  - **Regularization techniques**\n",
        "  - **Experimenting with different loss functions**\n",
        "  - Save the **best-performing model** during training.\n",
        "\n",
        "- Compare model performance:\n",
        "  - **Visualize predictions** on a batch of test images.\n",
        "  - Calculate and display **batch losses for both FCN and CNN models**.\n",
        "  - Explain why the models perform as they do, **highlighting the strengths and weaknesses** of each approach.\n",
        "\n",
        "- Visualizing:\n",
        "  - **Feature Maps** of the CNN model\n",
        "  - **Weights** of the FCN model\n",
        "\n",
        "- Optionally, use **WandB (Weights and Biases)** or **TensorBoard** to:\n",
        "  - Track and visualize **training progress**.\n",
        "  - Monitor **model performance** over time.\n",
        "  - Log **key metrics**."
      ],
      "metadata": {
        "id": "VX2xTE3MSdeP"
      }
    },
    {
      "cell_type": "code",
      "source": [
        "# @title Image Colorization Tasks\n",
        "# %%capture flowchart_output\n",
        "# HIDDEN CELL\n",
        "from graphviz import Digraph\n",
        "from IPython.display import Image as IMG\n",
        "\n",
        "def create_flowchart(output_filename='flowchart'):\n",
        "    dot = Digraph(name='Simplified Object Detection', format='png')\n",
        "    dot.attr(rankdir='LR')\n",
        "    dot.attr('node', shape='box', style='filled', fontsize='12', fontname='Arial')\n",
        "\n",
        "    dot.node('Imports', 'Necessary Imports\\n(Easy)', fillcolor='#A0E7A0')\n",
        "    dot.node('LoadData', 'Load in Your Dataset\\n(Easy)', fillcolor='#A0E7A0')\n",
        "    dot.node('AugmentData', 'Define Data Augmentations\\n(Easy)', fillcolor='#A0E7A0')\n",
        "    dot.node('DatasetDataloader', 'Create a Dataset and Dataloaders\\n(Easy)', fillcolor='#A0E7A0')\n",
        "    dot.node('VisualizeSample', 'Visualize Training Data\\n(Easy)', fillcolor='#A0E7A0')\n",
        "    dot.node('CreateCNN', 'Define a CNN Model\\n(Moderate)', fillcolor='#F6D49A')\n",
        "    dot.node('CreateFCN', 'Define a FCN Model\\n(Moderate)', fillcolor='#F6D49A')\n",
        "\n",
        "    dot.node('TorchSummary', 'Plot Model Parameter Count and Size\\n(Easy)', fillcolor='#A0E7A0')\n",
        "    dot.node('Hyperparameters', 'Define Hyperparameters\\n(Easy)', fillcolor='#A0E7A0')\n",
        "\n",
        "    dot.node('TrainModel', 'Train the Image Colorization Models\\n(Moderate)', fillcolor='#F6D49A')\n",
        "\n",
        "    dot.node('VisualizeTrain', 'Visualize Training Metrics\\n(Easy)', fillcolor='#A0E7A0')\n",
        "\n",
        "    dot.node('RunInference', 'Run Inference on the Image Colorization Models\\n(Moderate)', fillcolor='#F6D49A')\n",
        "\n",
        "    dot.node('CompareResults', 'Compare Test Results\\n(Difficult)', fillcolor='#F6A0A0')\n",
        "    dot.node('ExplainResults', 'Explain the Difference in Performance\\n(Moderate)', fillcolor='#F6D49A')\n",
        "\n",
        "    dot.node('VisualizeFM', 'Visualize CNN Feature Maps\\n(Difficult)', fillcolor='#F6A0A0')\n",
        "    dot.node('VisualizeW', 'Visualize FCN Weights\\n(Difficult)', fillcolor='#F6A0A0')\n",
        "\n",
        "    # Edges\n",
        "    dot.edge('Imports', 'LoadData')\n",
        "    dot.edge('LoadData', 'AugmentData')\n",
        "\n",
        "    dot.edge('AugmentData', 'DatasetDataloader')\n",
        "    dot.edge('DatasetDataloader', 'CreateCNN')\n",
        "    dot.edge('DatasetDataloader', 'VisualizeSample')\n",
        "    dot.edge('DatasetDataloader', 'CreateFCN')\n",
        "\n",
        "    dot.edge('CreateCNN', 'TorchSummary')\n",
        "    dot.edge('CreateFCN', 'TorchSummary')\n",
        "    dot.edge('CreateCNN', 'Hyperparameters')\n",
        "\n",
        "    dot.edge('CreateFCN', 'Hyperparameters')\n",
        "    dot.edge('Hyperparameters', 'TrainModel')\n",
        "\n",
        "    dot.edge('TrainModel', 'VisualizeTrain')\n",
        "    dot.edge('TrainModel', 'RunInference')\n",
        "    dot.edge('TrainModel', 'VisualizeFM')\n",
        "    dot.edge('TrainModel', 'VisualizeW')\n",
        "    dot.edge('RunInference', 'CompareResults')\n",
        "    dot.edge('RunInference', 'ExplainResults')\n",
        "\n",
        "    dot.render(output_filename, view=False)\n",
        "\n",
        "create_flowchart('homework1_flowchart')\n",
        "IMG('homework1_flowchart.png')"
      ],
      "metadata": {
        "id": "NmTzhv21JbO8",
        "colab": {
          "base_uri": "https://localhost:8080/",
          "height": 282
        },
        "cellView": "form",
        "outputId": "f9d44b97-daed-4067-fe2d-cc87da4c4851"
      },
      "execution_count": null,
      "outputs": [
        {
          "output_type": "execute_result",
          "data": {
            "image/png": "[encoded data removed]",
            "text/plain": [
              "<IPython.core.display.Image object>"
            ]
          },
          "metadata": {},
          "execution_count": 32
        }
      ]
    },
    {
      "cell_type": "markdown",
      "source": [
        "Each section of the Notebook will guide you through the task:\n",
        "- `necessary imports`\n",
        "- `data loading process`\n",
        "- `defining data augmentations`\n",
        "- `creating a dataset and dataloaders`\n",
        "- `visualizing the training data`\n",
        "- `creating a CNN model`\n",
        "- `creating a FCN model`\n",
        "- `defining a loss function and an optimizer`\n",
        "- `creating a training and validation loop`\n",
        "- `testing the models`\n",
        "- `comparing results`\n",
        "- `visualizing weights and feature maps`\n",
        "\n",
        "The sections are there to guide you but you **do not have to follow them strictly**.\n",
        "\n",
        "Copy this notebook to your drive (`File -> Save a copy in Drive`), edit it, and upload the final `.ipynb` file to [Canvas](https://canvas.elte.hu). If you are using this in **Google Colab**, save it as `.ipynb` and upload it, or share the public link. If you have your own machine with Jupyter installed, you can work there as well, as long as you save and upload the `.ipynb` file.\n",
        "\n",
        "## **General Rules**\n",
        "Please check all the requirements listed on **Canvas**, but here are some general rules:\n",
        "\n",
        "- **No NSFW, inappropriate, offensive, or negative images**. Be creative or use your hobbies as inspiration.\n",
        "- The model is **not expected to achieve high performance** but must perform better than random color guessing.\n",
        "- Copying others' code will make you fail the assignment automatically, resulting in a **0**.\n",
        "- Not submitting anything results in a **0**.\n",
        "- Submitting something, as long as it is not an empty notebook, might result in a 1.\n",
        "- **Deadline is October 21st Tuesday 11:59 PM** (strict, no late submission)\n",
        "- Feel free to add more code cells as needed. But don't put code into external Python files.\n",
        "- Please add your `name` and `Neptun ID` below.\n",
        "\n",
        "`Good luck!`\n",
        "\n",
        "## **Guidelines**\n",
        "Please carefully read each cell of the notebook, as they contain guidelines to help you complete the assignments. While you don't have to follow them strictly, we believe that they provide enough help."
      ],
      "metadata": {
        "id": "DPF6RnQdJhMZ"
      }
    },
    {
      "cell_type": "markdown",
      "source": [
        "**Name:**\n",
        "\n",
        "**Neptun ID:**"
      ],
      "metadata": {
        "id": "eeqFt6oDAxTC"
      }
    },
    {
      "cell_type": "markdown",
      "source": [
        "## **0. Necessary Imports**\n",
        "Import all the necessary packages for this assignment. **ONLY PYTORCH MODELS ARE ACCEPTED!**"
      ],
      "metadata": {
        "id": "9SCmL7LTTuPn"
      }
    },
    {
      "cell_type": "code",
      "source": [
        "import os\n",
        "import numpy as np\n",
        "import matplotlib.pyplot as plt\n",
        "import torch\n",
        "import torch.nn as nn\n",
        "import torch.optim as optim\n",
        "from torchsummary import summary\n",
        "from torch.utils.data import DataLoader, Dataset\n",
        "from torchvision import transforms, datasets\n",
        "\n",
        "device = torch.device(\"cuda:0\") if torch.cuda.is_available() else torch.device(\"cpu\")"
      ],
      "metadata": {
        "id": "FnLWIeccsk-i"
      },
      "execution_count": null,
      "outputs": []
    },
    {
      "cell_type": "markdown",
      "source": [
        "## **1. Data Loading Process**\n",
        "\n",
        "If you're unsure which dataset to use, **PyTorch** provides a collection of **pre-built datasets** in its [documentation](https://pytorch.org/vision/main/datasets.html). Look for a dataset under the *Image Classification* section that contains colored images.\n",
        "\n",
        "**Caltech-101:**\n",
        "\n",
        "<img src=\" https://datasets.activeloop.ai/wp-content/uploads/2022/09/Caltech-101-dataset-main-image.webp\" alt=\"1\" border=\"0\">\n",
        "\n",
        "**CIFAR-10:**\n",
        "\n",
        "<img src=\" https://datasets.activeloop.ai/wp-content/uploads/2022/09/CIFAR-10-dataset-Activeloop-Platform-visualization-image-1.webp\" alt=\"1\" border=\"0\">\n",
        "\n",
        "**Food-101:**\n",
        "\n",
        "<img src=\" https://storage.googleapis.com/kaggle-datasets-images/2918922/5029790/277a9147ec4854e4762767c8bd107bec/dataset-card.png?t=2023-02-20-08-37-14\" alt=\"1\" border=\"0\">\n",
        "\n",
        "\n"
      ],
      "metadata": {
        "id": "SMaN_rcDbhz6"
      }
    },
    {
      "cell_type": "markdown",
      "source": [
        "## **2. Defining Augmentations**\n",
        "\n",
        "Since most datasets and images are in RGB color space, you'll need to convert them to grayscale. However, we **strongly recommend** against applying the grayscale transformation immediately after loading the dataset, as this would result in losing the original colored images (which serve as the target). Instead, apply essential preprocessing steps like `tensor conversion`, `normalization` and `resizing` first, and **only perform the grayscale transformation within the custom Dataset class** to retain access to both input (grayscale) and target (RGB) images.\n",
        "\n",
        "```python\n",
        "train_transforms = transforms.Compose([\n",
        "            # Add Augmentations\n",
        "])\n",
        "\n",
        "test_transforms = transforms.Compose([\n",
        "            # Add Augmentations\n",
        "])\n",
        "```"
      ],
      "metadata": {
        "id": "WqZY6z70_pc2"
      }
    },
    {
      "cell_type": "code",
      "source": [
        "# ADD YOUR CODE HERE"
      ],
      "metadata": {
        "id": "Ii-7TC2v9fHV"
      },
      "execution_count": null,
      "outputs": []
    },
    {
      "cell_type": "markdown",
      "source": [
        "## **3. Creating Datasets and Dataloaders**\n",
        "\n",
        "To train a custom object detection model, a dataset is required. For this assignment, you will create a **custom dataset class** that takes a dataset path as input and returns **input-output** image pairs when batched through a `Dataloader`:\n",
        "\n",
        "- **Input:** $[1\\times H \\times W]$ grayscale image  \n",
        "- **Output:** $[3\\times H \\times W]$ RGB image  \n",
        "\n",
        "Use the built-in **`transforms.Grayscale`** method from `torchvision.transforms` to convert images to grayscale.\n",
        "\n",
        "> **Note:** The $W$ and $H$ dimensions do not necessarily have to be the same.\n",
        "\n",
        "For the **DataLoader**, ensure that the **batch size** is appropriate so that it fits into memory. Set the **`shuffle`** parameter as follows:\n",
        "\n",
        "- **Training & Validation DataLoaders:** `shuffle=True` (to randomize the order of samples)  \n",
        "- **Test DataLoader:** `shuffle=False` (to maintain consistency in evaluation)\n",
        "\n",
        "```python\n",
        "class GrayscaleToColorDataset(Dataset):\n",
        "    def __init__(self):\n",
        "        raise NotImplementedError\n",
        "    \n",
        "    def __len__(self):\n",
        "        raise NotImplementedError\n",
        "\n",
        "    def __getitem__(self, idx):\n",
        "        raise NotImplementedError\n",
        "```"
      ],
      "metadata": {
        "id": "u8RvomEYDfSL"
      }
    },
    {
      "cell_type": "code",
      "source": [
        "# ADD YOUR CODE HERE"
      ],
      "metadata": {
        "id": "PHOoSWsovaXb"
      },
      "execution_count": null,
      "outputs": []
    },
    {
      "cell_type": "markdown",
      "source": [
        "## **4.1 Visualize Training Data**\n",
        "\n",
        "To visualize the training data, extract a batch from the training `DataLoader` and plot the **input-output** pairs using `Matplotlib` or `Seaborn`. Ensure that at least **8 pairs** are displayed for a clear representation.\n",
        "\n",
        "```python\n",
        "def visualize_batch():\n",
        "  raise NotImplementedError\n",
        "```"
      ],
      "metadata": {
        "id": "6z_RMG7OI2yh"
      }
    },
    {
      "cell_type": "code",
      "source": [
        "# ADD YOUR CODE HERE"
      ],
      "metadata": {
        "id": "blUu2ETzJM5r"
      },
      "execution_count": null,
      "outputs": []
    },
    {
      "cell_type": "markdown",
      "source": [
        "## **4.2 Creating a CNN Model**\n",
        "\n",
        "You are free to design your CNN using any combination of:\n",
        "- `Conv2d` layers\n",
        "- `MaxPool2d`\n",
        "- Normalization techniques (e.g., `BatchNorm`, `Dropout`)\n",
        "- Activation functions (e.g., `ReLU`, `LeakyReLU`, etc.)\n",
        "\n",
        "The final convolutional layer should output a tensor of shape $[3 × H × W]$ to match the RGB color space. Apply a `sigmoid` activation at the end to constrain the output values between **0 and 1**, allowing for later **denormalization** to the full RGB scale.\n",
        "\n",
        "For an **extra grade improvement**, explore more advanced architectures and techniques:\n",
        "\n",
        "- **Dilation in Conv2D layers:** Expands the receptive field without increasing parameters.  \n",
        "  [PyTorch Docs on Conv2D](https://pytorch.org/docs/stable/generated/torch.nn.Conv2d.html)  \n",
        "\n",
        "- **Transpose Convolutions:** Used for upsampling to restore spatial dimensions in an image.  \n",
        "  [PyTorch Docs on ConvTranspose2d](https://pytorch.org/docs/stable/generated/torch.nn.ConvTranspose2d.html)  \n",
        "\n",
        "- **Encoder-Decoder Models & UNets:** Popular in segmentation and image-to-image translation tasks.  \n",
        "  [Understanding UNet](https://towardsdatascience.com/understanding-u-net-61276b10f360/)  \n",
        "\n",
        "- **Generative Adversarial Networks (GANs):** Used for high-quality image generation and colorization.  \n",
        "  [Introduction to GANs](https://machinelearningmastery.com/what-are-generative-adversarial-networks-gans/)  \n",
        "\n",
        "```python\n",
        "class ColorizationCNN(nn.Module):\n",
        "    def __init__(self):\n",
        "        super(ColorizationCNN, self).__init__()\n",
        "        raise NotImplementedError\n",
        "\n",
        "    def forward(self, x):\n",
        "        raise NotImplementedError\n",
        "```"
      ],
      "metadata": {
        "id": "4e2p2XzFeFE6"
      }
    },
    {
      "cell_type": "code",
      "source": [
        "# ADD YOUR CODE HERE"
      ],
      "metadata": {
        "id": "kYAGAUAPIVmU"
      },
      "execution_count": null,
      "outputs": []
    },
    {
      "cell_type": "markdown",
      "source": [
        "## **4.3 Creating a FCN Model**\n",
        "\n",
        "The fully connected network should process an **input grayscale image** and transform it into an RGB image by following these steps:\n",
        "\n",
        "1. **Flatten the input:**  \n",
        "   - Convert the image into a vector of shape $[N, 1 * H * W]$, where $N$ is the batch size.\n",
        "   \n",
        "2. **Linear Projection:**  \n",
        "   - Apply a **fully connected (linear) layer** that projects the input vector to a space of $[N, 3 * H * W]$.\n",
        "\n",
        "3. **Reshape the output:**  \n",
        "   - Reshape the result back into an image format with shape $[N, 3, H, W]$, matching the expected RGB output.\n",
        "\n",
        "Feel free to add **more hidden layers** and incorporate **non-linear activation functions**, normalization techniques, and other enhancements to help the model learn more expressive and complex features.\n",
        "\n",
        "```python\n",
        "class ColorizationLinear(nn.Module):\n",
        "    def __init__(self):\n",
        "        super(ColorizationLinear, self).__init__()\n",
        "        raise NotImplementedError\n",
        "\n",
        "    def forward(self, x):\n",
        "        raise NotImplementedError\n",
        "```"
      ],
      "metadata": {
        "id": "lInVNQoFGWnv"
      }
    },
    {
      "cell_type": "code",
      "source": [
        "# ADD YOUR CODE HERE"
      ],
      "metadata": {
        "id": "7-NmRli-GVrD"
      },
      "execution_count": null,
      "outputs": []
    },
    {
      "cell_type": "markdown",
      "source": [
        "## **5.1 Plotting Model Parameter Count and Size**\n",
        "\n",
        "A convenient way to inspect the number of parameters in a defined `nn.Module` is by using the `torchsummary` package. This package provides a detailed summary of the model architecture, including the number of parameters in each layer, their shapes, and the total parameter count.\n",
        "\n",
        "To use `torchsummary`, you need to pass a dummy tensor with the specified input shape. The package will then traverse the model, layer by layer, calculating the total number of trainable and non-trainable parameters while also displaying the output shapes at each stage.\n",
        "\n",
        "Sumnmarize **both models**!\n",
        "\n",
        "```python\n",
        "model_cnn = ColorizationCNN().to(device)\n",
        "summary(model_cnn, input_size = )\n",
        "```"
      ],
      "metadata": {
        "id": "JKQANtuZEc0h"
      }
    },
    {
      "cell_type": "code",
      "source": [
        "# ADD YOUR CODE HERE"
      ],
      "metadata": {
        "id": "Aox24JuKF--9"
      },
      "execution_count": null,
      "outputs": []
    },
    {
      "cell_type": "code",
      "source": [
        "# ADD YOUR CODE HERE"
      ],
      "metadata": {
        "id": "d1CjDXl3LxtO"
      },
      "execution_count": null,
      "outputs": []
    },
    {
      "cell_type": "markdown",
      "source": [
        "## **5.2 Defining Loss Function and Optimizer**\n",
        "\n",
        "**Loss Functions and their options:**\n",
        "\n",
        "For our grayscale-to-color image translation task, we are performing **regression** rather than classification. Our network predicts continuous RGB values for each pixel, meaning that the chosen loss function should effectively measure the difference between the predicted and true color values.\n",
        "\n",
        "---\n",
        "\n",
        "### **a. Mean Squared Error (MSE) Loss**\n",
        "MSE loss is a standard choice for regression tasks as it penalizes larger errors more strongly than smaller ones. It is computed as:\n",
        "\n",
        "$$\n",
        "\\mathcal{L}_{MSE} = \\frac{1}{N} \\sum_{i=1}^{N} (y_i - \\hat{y}_i)^2\n",
        "$$\n",
        "\n",
        "where $ y_i $ is the ground truth pixel value and $ \\hat{y}_i $ is the predicted pixel value.\n",
        "\n",
        "- **Pros:** Simple, commonly used for regression, computationally efficient.\n",
        "- **Cons:** Sensitive to outliers since it squares errors.\n",
        "\n",
        "---\n",
        "\n",
        "### **b. Root Mean Squared Error (RMSE) Loss**\n",
        "RMSE is simply the square root of MSE, reducing the impact of squared errors and providing a more interpretable loss value in the same unit as the output.\n",
        "\n",
        "$$\n",
        "\\mathcal{L}_{RMSE} = \\sqrt{\\frac{1}{N} \\sum_{i=1}^{N} (y_i - \\hat{y}_i)^2}\n",
        "$$\n",
        "\n",
        "- **Pros:** Less sensitive to large errors compared to MSE, more interpretable.\n",
        "- **Cons:** Still punishes large errors significantly.\n",
        "\n",
        "---\n",
        "\n",
        "### **c. Huber Loss**\n",
        "Huber Loss is a combination of MSE and Mean Absolute Error (MAE) that is more robust to outliers. It applies MSE for small errors and MAE for large ones:\n",
        "\n",
        "$$\n",
        "\\mathcal{L}_{Huber} =\n",
        "\\begin{cases}\n",
        "\\frac{1}{2} (y_i - \\hat{y}_i)^2, & \\text{if} \\ |y_i - \\hat{y}_i| \\leq \\delta \\\\\n",
        "\\delta (|y_i - \\hat{y}_i| - \\frac{1}{2} \\delta), & \\text{otherwise}\n",
        "\\end{cases}\n",
        "$$\n",
        "\n",
        "where $ \\delta $ is a threshold defining the transition from quadratic to linear loss.\n",
        "\n",
        "- **Pros:** Robust to outliers while still penalizing significant errors.\n",
        "- **Cons:** Introduces an extra hyperparameter $ \\delta $ that must be tuned.\n",
        "\n",
        "---\n",
        "\n",
        "### **d. Structural Similarity Index (SSIM) Loss (Advanced)**\n",
        "While MSE and Huber loss work on a per-pixel basis, SSIM measures **perceptual similarity** between two images. It compares contrast, structure, and luminance.\n",
        "\n",
        "$$\n",
        "\\mathcal{L}_{SSIM} = 1 - SSIM(y, \\hat{y})\n",
        "$$\n",
        "\n",
        "where SSIM measures image similarity in a windowed manner.\n",
        "\n",
        "- **Pros:** Better reflects human perception of image quality.\n",
        "- **Cons:** More computationally expensive.\n",
        "\n",
        "---\n",
        "\n",
        "[PyTorch Documentation](https://pytorch.org/docs/stable/nn.html#loss-functions)\n",
        "\n",
        "---\n",
        "\n",
        "**Optimizers and their options:**\n",
        "\n",
        "There are some pre-built [Optimizers in PyTorch](https://pytorch.org/docs/stable/optim.html), they are sufficient in most cases, especially if their parameters are well set. The two most well-known are Adam (AdamW) and SGD, both of which originate from Gradient Descent, which we implemented earlier.\n",
        "\n",
        "* **S**tochastic **G**radient **D**escent ([SGD](https://pytorch.org/docs/stable/generated/torch.optim.SGD.html))\n",
        "* **ADA**ptive **M**oment optimizer ([ADAM](https://pytorch.org/docs/stable/generated/torch.optim.Adam.html))\n",
        "* [A good general overview](https://www.ruder.io/optimizing-gradient-descent/)"
      ],
      "metadata": {
        "id": "6Yfmhs-8MboK"
      }
    },
    {
      "cell_type": "code",
      "source": [
        "# ADD YOUR CODE HERE"
      ],
      "metadata": {
        "id": "opWHCDnLO-8Q"
      },
      "execution_count": null,
      "outputs": []
    },
    {
      "cell_type": "markdown",
      "source": [
        "## **6. Training the Image Colorization Models**\n",
        "\n",
        "When implementing the training loop, ensure the following key aspects are included:\n",
        "\n",
        "- Set an **appropriate number of epochs** for model training, balancing between underfitting and overfitting.\n",
        "- Maintain running losses throughout each epoch and compute both **training loss** and **validation loss** per epoch.\n",
        "- Implement an **early stopping mechanism** to halt training if validation loss stops improving, preventing unnecessary overfitting.\n",
        "- **Save the model at its best-performing epoch** based on validation loss, ensuring the best version is retained for inference."
      ],
      "metadata": {
        "id": "t7-5x560Pd8d"
      }
    },
    {
      "cell_type": "code",
      "source": [
        "# ADD YOUR CODE HERE"
      ],
      "metadata": {
        "id": "4_cOk57aO-09"
      },
      "execution_count": null,
      "outputs": []
    },
    {
      "cell_type": "markdown",
      "source": [
        "## **7.1 Visualizing Training Metrics**\n",
        "\n",
        "- **Restore the model's parameters** from the checkpoint where validation loss was lowest to use the most optimal version of the model.\n",
        "- Use `Matplotlib` or `Seaborn` to plot the loss curves over epochs.\n",
        "\n",
        "Did your model **converge**? Explain your results!\n",
        "\n",
        "```python\n",
        "def plot_losses():\n",
        "  raise NotImplementedError\n",
        "```"
      ],
      "metadata": {
        "id": "ac5owgVRQ08t"
      }
    },
    {
      "cell_type": "markdown",
      "source": [
        "> **Answer:**"
      ],
      "metadata": {
        "id": "tTu7wUR2Uaha"
      }
    },
    {
      "cell_type": "markdown",
      "source": [
        "## **7.2 Running Inference on the Image Colorization Models**\n",
        "\n",
        "Pass test images through both the **CNN-based model** and the **Fully Connected Network (FCN) model**. Compute the test losses for both models to quantify performance.\n",
        "\n",
        "```python\n",
        "def test_model()\n",
        "  raise NotImplementedError\n",
        "```"
      ],
      "metadata": {
        "id": "Z8kwVllERwUo"
      }
    },
    {
      "cell_type": "code",
      "source": [
        "# ADD YOUR CODE HERE"
      ],
      "metadata": {
        "id": "1jDI1fU0Rfmh"
      },
      "execution_count": null,
      "outputs": []
    },
    {
      "cell_type": "markdown",
      "source": [
        "## **8.1 Comparing Test Results**\n",
        "\n",
        "Select **two different test images** and generate comparison plots.\n",
        "   - For each test image, create a **2-row, 3-column layout**:\n",
        "     - **Row 1 (CNN Model)**:  \n",
        "       - **Grayscale Input**\n",
        "       - **CNN Colorized Prediction**\n",
        "       - **Ground Truth RGB Image**\n",
        "     - **Row 2 (FCN Model)**:  \n",
        "       - **Grayscale Input**\n",
        "       - **FCN Colorized Prediction**\n",
        "       - **Ground Truth RGB Image**\n",
        "\n",
        "> **Display the loss value below each predicted image.**\n",
        "\n",
        "```python\n",
        "def plot_predictions():\n",
        "  raise NotImplementedError\n",
        "```"
      ],
      "metadata": {
        "id": "_A9sjt7GThBX"
      }
    },
    {
      "cell_type": "code",
      "source": [
        "# ADD YOUR CODE HERE"
      ],
      "metadata": {
        "id": "mBQCv27LTtNF"
      },
      "execution_count": null,
      "outputs": []
    },
    {
      "cell_type": "markdown",
      "source": [
        "## **8.2 Explaining the Difference in Performance**  \n",
        "\n",
        "Examine the differences in both the predicted test images and the computed test losses, providing reasoning for the performance variations between the two models. Provide explanations on how these architectural differences impact both qualitative (visual) and quantitative (loss-based) performance."
      ],
      "metadata": {
        "id": "WcSTMH5ST4gB"
      }
    },
    {
      "cell_type": "markdown",
      "source": [
        "> **Answer:**"
      ],
      "metadata": {
        "id": "5Jl__w7EUPAQ"
      }
    },
    {
      "cell_type": "markdown",
      "source": [
        "## **9.1 Visualizing Feature Maps in the Convolutional Neural Network**\n",
        "\n",
        "Your goal is to **visualize the feature maps** inside your trained convolutional neural network (CNN). Feature maps show how the network transforms an input image layer by layer.\n",
        "\n",
        "1. **Create a Hook Function:**  \n",
        "   - Define a function that will store the feature maps from a given layer during a forward pass.  \n",
        "2. **Register Hooks to Convolutional Layers:**  \n",
        "   - Attach this function to **all convolutional layers** in your CNN model to capture their outputs.  \n",
        "3. **Pass a Sample Image Through the Model:**  \n",
        "   - Select a grayscale image from the test dataset and feed it into the trained CNN.  \n",
        "4. **Visualize the Feature Maps:**  \n",
        "   - For each convolutional layer, **plot its feature maps** (at most **10 feature maps per layer**; if a layer has fewer, visualize all of them).  \n",
        "   - Include the **layer name** in each plot for clarity.\n",
        "\n",
        "[Hook Functions](https://pytorch.org/docs/stable/generated/torch.Tensor.register_hook.html)"
      ],
      "metadata": {
        "id": "5e000X2rbgTH"
      }
    },
    {
      "cell_type": "code",
      "source": [
        "# ADD YOUR CODE HERE"
      ],
      "metadata": {
        "id": "ZiF-AU9Met2b"
      },
      "execution_count": null,
      "outputs": []
    },
    {
      "cell_type": "markdown",
      "source": [
        "## **9.2 Visualizing Weights in the Fully Connected Network**  \n",
        "\n",
        "In this task, you will explore what the first layer of your **fully connected neural network (FCN)** learns when colorizing grayscale images. Since the first linear layer directly maps grayscale pixels to hidden features, we can **reshape and visualize its weights** to understand what patterns the model is detecting.\n",
        "\n",
        "1. **Extract the weights** of the first fully connected layer (`e.g. fc1`) from the trained linear model.  \n",
        "2. **Select a few neurons** (e.g., 5-10) and reshape their weights into $32 \\times 32$ images.  \n",
        "3. **Plot these weights as grayscale images** using Matplotlib with a chosen colormap.\n",
        "\n",
        "Each neuron in `e.g. fc1` has **1024 weights** (since $ 32 \\times 32 = 1024 $), meaning **each neuron \"sees\" the entire grayscale image**. By reshaping these **1024 weights** back into $ 32 \\times 32 $, we get an image representation of **what each neuron is learning**. If the model has learned useful features, you should see structured patterns, like **edges or textures**.\n",
        "\n",
        "[The `weight` variable](https://pytorch.org/docs/stable/generated/torch.nn.Linear.html)"
      ],
      "metadata": {
        "id": "JIjuV58xd3YC"
      }
    },
    {
      "cell_type": "code",
      "source": [
        "# ADD YOUR CODE HERE"
      ],
      "metadata": {
        "id": "F0__gp9mesFu"
      },
      "execution_count": null,
      "outputs": []
    },
    {
      "cell_type": "markdown",
      "source": [
        "Please make sure to download your `.ipynb` file, and upload it to **Canvas** on time!\n",
        "\n",
        "<img src=\"https://www.usatoday.com/gcdn/authoring/authoring-images/2023/08/25/USAT/70680172007-alertsm.png?crop=2099,1187,x0,y156\" alt=\"1\" border=\"0\">\n",
        "\n"
      ],
      "metadata": {
        "id": "qoqbS0MWVvih"
      }
    },
    {
      "cell_type": "code",
      "source": [
        "# @title ⏰ Time Left Until Submission ⏰\n",
        "# %%capture flowchart_output\n",
        "# HIDDEN CELL\n",
        "\n",
        "from datetime import datetime, timedelta\n",
        "\n",
        "deadline = datetime(2025, 10, 21, 23, 59, 0)\n",
        "\n",
        "def time_until_deadline():\n",
        "    now = datetime.utcnow()\n",
        "    remaining = deadline - now\n",
        "    if remaining.total_seconds() <= 0:\n",
        "        return \"Time's up!\"\n",
        "    days = remaining.days\n",
        "    hours, remainder = divmod(remaining.seconds, 3600)\n",
        "    minutes, _ = divmod(remainder, 60)\n",
        "\n",
        "    return f\"{days} days, {hours} hours, {minutes} minutes\"\n",
        "\n",
        "print(\"Time left until submission:\", time_until_deadline())"
      ],
      "metadata": {
        "colab": {
          "base_uri": "https://localhost:8080/"
        },
        "id": "wcwpxEvsVp74",
        "outputId": "7dc2c7cd-0704-4de2-eff5-7fc14ea1cf4d"
      },
      "execution_count": null,
      "outputs": [
        {
          "output_type": "stream",
          "name": "stdout",
          "text": [
            "Time left until submission: 15 days, 1 hours, 46 minutes\n"
          ]
        },
        {
          "output_type": "stream",
          "name": "stderr",
          "text": [
            "/tmp/ipython-input-3300104280.py:10: DeprecationWarning: datetime.datetime.utcnow() is deprecated and scheduled for removal in a future version. Use timezone-aware objects to represent datetimes in UTC: datetime.datetime.now(datetime.UTC).\n",
            "  now = datetime.utcnow()\n"
          ]
        }
      ]
    },
    {
      "cell_type": "code",
      "source": [],
      "metadata": {
        "id": "m2ROzBPulHb2"
      },
      "execution_count": null,
      "outputs": []
    }
  ]
}